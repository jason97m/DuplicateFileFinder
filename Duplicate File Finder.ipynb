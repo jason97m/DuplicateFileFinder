{
 "cells": [
  {
   "cell_type": "code",
   "execution_count": 4,
   "id": "5f65cf39",
   "metadata": {},
   "outputs": [
    {
     "name": "stdout",
     "output_type": "stream",
     "text": [
      "Enter the directory path: C:\\Users\\jason\\Documents\n",
      "Processing files: [........................................] 206/206\n",
      "Duplicates saved to C:\\Users\\jason\\Documents\\duplicates.csv\n"
     ]
    }
   ],
   "source": [
    "import os\n",
    "import hashlib\n",
    "import csv\n",
    "\n",
    "# Prompt the user to enter the directory path\n",
    "directory = input(\"Enter the directory path: \")\n",
    "\n",
    "# Initialize an empty dictionary to store file hashes\n",
    "hashes = {}\n",
    "\n",
    "# Get the total number of files to be processed\n",
    "total_files = sum(len(files) for _, _, files in os.walk(directory))\n",
    "\n",
    "# Loop through all files in the directory and its subdirectories and compute their SHA-256 hashes\n",
    "processed_files = 0\n",
    "for root, subdirs, files in os.walk(directory):\n",
    "    for filename in files:\n",
    "        filepath = os.path.join(root, filename)\n",
    "        with open(filepath, \"rb\") as f:\n",
    "            file_hash = hashlib.sha256(f.read()).hexdigest()\n",
    "        if file_hash in hashes:\n",
    "            hashes[file_hash].append(filepath)\n",
    "        else:\n",
    "            hashes[file_hash] = [filepath]\n",
    "\n",
    "        # Update the progress indicator\n",
    "        processed_files += 1\n",
    "        progress = processed_files / total_files\n",
    "        progress_str = \".\" * int(progress * 40)\n",
    "        print(f\"\\rProcessing files: [{progress_str:<40}] {processed_files}/{total_files}\", end=\"\")\n",
    "\n",
    "# Write the list of duplicate files to a CSV file\n",
    "csv_path = os.path.join(directory, \"duplicates.csv\")\n",
    "with open(csv_path, \"w\", newline=\"\") as csvfile:\n",
    "    writer = csv.writer(csvfile)\n",
    "    writer.writerow([\"Hash\", \"Filepaths\"])\n",
    "    for file_list in hashes.values():\n",
    "        if len(file_list) > 1:\n",
    "            writer.writerow([file_list[0], file_list[1:]])\n",
    "\n",
    "print(f\"\\nDuplicates saved to {csv_path}\")"
   ]
  },
  {
   "cell_type": "code",
   "execution_count": null,
   "id": "ddaef6be",
   "metadata": {},
   "outputs": [],
   "source": []
  }
 ],
 "metadata": {
  "kernelspec": {
   "display_name": "Python 3 (ipykernel)",
   "language": "python",
   "name": "python3"
  },
  "language_info": {
   "codemirror_mode": {
    "name": "ipython",
    "version": 3
   },
   "file_extension": ".py",
   "mimetype": "text/x-python",
   "name": "python",
   "nbconvert_exporter": "python",
   "pygments_lexer": "ipython3",
   "version": "3.11.4"
  }
 },
 "nbformat": 4,
 "nbformat_minor": 5
}
